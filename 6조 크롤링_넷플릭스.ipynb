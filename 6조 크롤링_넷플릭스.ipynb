{
 "cells": [
  {
   "cell_type": "code",
   "execution_count": 33,
   "metadata": {
    "scrolled": true
   },
   "outputs": [
    {
     "name": "stdout",
     "output_type": "stream",
     "text": [
      "셀레나\n",
      "2021년 5월 4일\n",
      "샘의 아들들: 어둠 속으로\n",
      "2021년 5월 5일\n",
      "몬스터\n",
      "2021년 5월 7일\n",
      "그녀의 이름은 난노\n",
      "2021년 5월 7일\n",
      "이정표\n",
      "2021년 5월 7일\n",
      "주피터스 레거시\t\n",
      "2021년 5월 7일\n",
      "익스플레인: 돈을 해설하다\n",
      "2021년 5월 11일\n",
      "댄스 오브 41\n",
      "2021년 5월 12일\n",
      "우리는 업쇼 패밀리\n",
      "2021년 5월 12일\n",
      "O2\n",
      "2021년 5월 12일\n",
      "홀스턴\n",
      "2021년 5월 14일\n",
      "러브, 데스 + 로봇\n",
      "2021년 5월 14일\n",
      "우먼 인 윈도\n",
      "2021년 5월 14일\n",
      "페리\n",
      "2021년 5월 14일\n",
      "초자연 현상의  목격자들\n",
      "2021년 5월 14일\n",
      "사르다르의 손자\n",
      "2021년 5월 18일\n",
      "누가 사라를 죽였을까\n",
      "2021년 5월 19일\n",
      "스페셜\n",
      "2021년 5월 20일\n",
      "아미 오브 더 데드\n",
      "2021년 5월 21일\n",
      "마스터 오브 제로\n",
      "2021년 5월 23일\n"
     ]
    }
   ],
   "source": [
    "#결론\n",
    "import time\n",
    "from selenium import webdriver\n",
    "\n",
    "chromedriver=\"./chromedriver\"\n",
    "\n",
    "url = \"https://media.netflix.com/ko/\"\n",
    "\n",
    "driver=webdriver.Chrome(chromedriver)\n",
    "driver.get(\"https://media.netflix.com/ko/\")\n",
    "driver.implicitly_wait(2)\n",
    "items  = driver.find_elements_by_css_selector(\".item-enter-done\")\n",
    "\n",
    "for item in items:\n",
    "    temp = item.find_element_by_css_selector(\"a\")\n",
    "    print(temp.get_attribute(\"title\"))\n",
    "    print(temp.find_element_by_css_selector('div:nth-of-type(2)').text)"
   ]
  },
  {
   "cell_type": "code",
   "execution_count": 29,
   "metadata": {
    "scrolled": true
   },
   "outputs": [
    {
     "name": "stdout",
     "output_type": "stream",
     "text": [
      "셀레나\n",
      "샘의 아들들: 어둠 속으로\n",
      "몬스터\n",
      "그녀의 이름은 난노\n",
      "이정표\n",
      "주피터스 레거시\t\n",
      "익스플레인: 돈을 해설하다\n",
      "댄스 오브 41\n",
      "우리는 업쇼 패밀리\n",
      "O2\n",
      "홀스턴\n",
      "러브, 데스 + 로봇\n",
      "우먼 인 윈도\n",
      "페리\n",
      "초자연 현상의  목격자들\n",
      "사르다르의 손자\n",
      "누가 사라를 죽였을까\n",
      "스페셜\n",
      "아미 오브 더 데드\n",
      "마스터 오브 제로\n"
     ]
    }
   ],
   "source": [
    "import time\n",
    "from selenium import webdriver\n",
    "\n",
    "chromedriver=\"./chromedriver\"\n",
    "\n",
    "url = \"https://media.netflix.com/ko/\"\n",
    "\n",
    "driver=webdriver.Chrome(chromedriver)\n",
    "driver.get(\"https://media.netflix.com/ko/\")\n",
    "driver.implicitly_wait(2)\n",
    "items  = driver.find_elements_by_css_selector(\".item-enter-done\")\n",
    "\n",
    "for item in items:\n",
    "    print(item.find_element_by_css_selector(\"a\").get_attribute('title'))\n",
    "    "
   ]
  },
  {
   "cell_type": "code",
   "execution_count": 27,
   "metadata": {},
   "outputs": [],
   "source": [
    "#8월\n",
    "import time\n",
    "from selenium import webdriver\n",
    "\n",
    "chromedriver=\"./chromedriver\"\n",
    "\n",
    "url = \"https://media.netflix.com/ko/\"\n",
    "\n",
    "options=webdriver.ChromeOptions()\n",
    "options.add_argument(\"headless\")\n",
    "\n",
    "driver=webdriver.Chrome(chromedriver)\n",
    "driver.get(\"https://media.netflix.com/ko/\")\n",
    "driver.implicitly_wait(2)\n",
    "driver.find_element_by_css_selector('div[data-testid=\"homepage_month_selector\"]').click()\n",
    "\n",
    "driver.implicitly_wait(2)\n",
    "driver.find_element_by_css_selector('li[data-option-index=\"4\"]').click()\n",
    "# items  = driver.find_elements_by_css_selector(\".item-enter-done\")\n",
    "\n",
    "# for item in items:\n",
    "#     print(item.find_element_by_css_selector(\"a\").get_attribute(\"title\"))\n",
    "    "
   ]
  },
  {
   "cell_type": "code",
   "execution_count": null,
   "metadata": {},
   "outputs": [],
   "source": [
    "wd.get(\"https://media.netflix.com/ko/\")\n",
    "\n",
    "#월 선택창\n",
    "wd.find_element_by_css_selector('div[data-testid=\"homepage_month_selector\"]').click()\n",
    "\n",
    "# #4월\n",
    "# driver.find_element_by_css_selector('li[data-option-index=\"0\"]').click()\n",
    "\n",
    "# #5월\n",
    "# driver.find_element_by_css_selector('li[data-option-index=\"1\"]').click()\n",
    "\n",
    "# #6월\n",
    "# driver.find_element_by_css_selector('li[data-option-index=\"2\"]').click()\n",
    "\n",
    "#7월\n",
    "wd.find_element_by_css_selector('li[data-option-index=\"3\"]').click()\n",
    "\n",
    "# #8월\n",
    "# wd.find_element_by_css_selector('li[data-option-index=\"4\"]').click()\n",
    "\n",
    "\n",
    "items = wd.find_elements_by_css_selector(\".item-enter-done\") \n",
    "\n",
    "for item in items:\n",
    "    temp = item.find_element_by_css_selector(\"a\")\n",
    "    print(temp.get_attribute(\"title\"))\n",
    "    print(temp.find_element_by_css_selector('div:nth-of-type(2)').text)"
   ]
  },
  {
   "cell_type": "code",
   "execution_count": 34,
   "metadata": {},
   "outputs": [
    {
     "name": "stdout",
     "output_type": "stream",
     "text": [
      "셀레나\n",
      "샘의 아들들: 어둠 속으로\n",
      "몬스터\n",
      "그녀의 이름은 난노\n",
      "이정표\n",
      "주피터스 레거시\t\n",
      "익스플레인: 돈을 해설하다\n",
      "댄스 오브 41\n",
      "우리는 업쇼 패밀리\n",
      "O2\n",
      "홀스턴\n",
      "러브, 데스 + 로봇\n",
      "우먼 인 윈도\n",
      "페리\n",
      "초자연 현상의  목격자들\n",
      "사르다르의 손자\n",
      "누가 사라를 죽였을까\n",
      "스페셜\n",
      "아미 오브 더 데드\n",
      "마스터 오브 제로\n"
     ]
    }
   ],
   "source": [
    "import time\n",
    "from selenium import webdriver\n",
    "chromedriver=\"./chromedriver\"\n",
    "url = \"https://media.netflix.com/ko/\"\n",
    "\n",
    "options=webdriver.ChromeOptions()\n",
    "options.add_argument(\"headless\")\n",
    "options.add_argument(\"--lang=ko\");\n",
    "\n",
    "driver=webdriver.Chrome(chromedriver, options=options)\n",
    "driver.get(\"https://media.netflix.com/ko/\")\n",
    "\n",
    "driver.implicitly_wait(2)\n",
    "items  = driver.find_elements_by_css_selector(\".item-enter-done\")\n",
    "\n",
    "for item in items:\n",
    "    print(item.find_element_by_css_selector(\"a\").get_attribute(\"title\"))"
   ]
  },
  {
   "cell_type": "code",
   "execution_count": null,
   "metadata": {},
   "outputs": [],
   "source": []
  }
 ],
 "metadata": {
  "kernelspec": {
   "display_name": "Python 3",
   "language": "python",
   "name": "python3"
  },
  "language_info": {
   "codemirror_mode": {
    "name": "ipython",
    "version": 3
   },
   "file_extension": ".py",
   "mimetype": "text/x-python",
   "name": "python",
   "nbconvert_exporter": "python",
   "pygments_lexer": "ipython3",
   "version": "3.8.5"
  }
 },
 "nbformat": 4,
 "nbformat_minor": 4
}
